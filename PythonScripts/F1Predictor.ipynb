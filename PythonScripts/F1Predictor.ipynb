{
 "metadata": {
  "language_info": {
   "codemirror_mode": {
    "name": "ipython",
    "version": 3
   },
   "file_extension": ".py",
   "mimetype": "text/x-python",
   "name": "python",
   "nbconvert_exporter": "python",
   "pygments_lexer": "ipython3",
   "version": "3.8.3"
  },
  "orig_nbformat": 2,
  "kernelspec": {
   "name": "python383jvsc74a57bd0cbcf952638a26989586fff2d21bebfd3d24aa3b82ee61fd3ed0237b44cfc0741",
   "display_name": "Python 3.8.3 64-bit ('base': conda)"
  }
 },
 "nbformat": 4,
 "nbformat_minor": 2,
 "cells": [
  {
   "cell_type": "code",
   "execution_count": 5,
   "metadata": {},
   "outputs": [
    {
     "output_type": "execute_result",
     "data": {
      "text/plain": [
       "                                                                      Position  \\\n",
       "Year Type       Track     Driver           Car                                   \n",
       "2010 Practice 1 Abu Dhabi Adrian Sutil     Force India Mercedes             14   \n",
       "                          Bruno Senna      HRT Cosworth                     22   \n",
       "                          Christian Klien  HRT Cosworth                     23   \n",
       "                          Fairuz Fauzy     Lotus Cosworth                   24   \n",
       "                          Felipe Massa     Ferrari                          11   \n",
       "...                                                                        ...   \n",
       "2020 Qualifying Tuscany   Pierre Gasly     AlphaTauri Honda                 16   \n",
       "                          Romain Grosjean  Haas Ferrari                     15   \n",
       "                          Sebastian Vettel Ferrari                          14   \n",
       "                          Sergio Perez     Racing Point BWT Mercedes         6   \n",
       "                          Valtteri Bottas  Mercedes                          2   \n",
       "\n",
       "                                                                      Time  \\\n",
       "Year Type       Track     Driver           Car                               \n",
       "2010 Practice 1 Abu Dhabi Adrian Sutil     Force India Mercedes       6852   \n",
       "                          Bruno Senna      HRT Cosworth               7130   \n",
       "                          Christian Klien  HRT Cosworth               6874   \n",
       "                          Fairuz Fauzy     Lotus Cosworth             7365   \n",
       "                          Felipe Massa     Ferrari                    6460   \n",
       "...                                                                    ...   \n",
       "2020 Qualifying Tuscany   Pierre Gasly     AlphaTauri Honda              0   \n",
       "                          Romain Grosjean  Haas Ferrari                  0   \n",
       "                          Sebastian Vettel Ferrari                       0   \n",
       "                          Sergio Perez     Racing Point BWT Mercedes     0   \n",
       "                          Valtteri Bottas  Mercedes                      0   \n",
       "\n",
       "                                                                      Laps  \n",
       "Year Type       Track     Driver           Car                              \n",
       "2010 Practice 1 Abu Dhabi Adrian Sutil     Force India Mercedes         20  \n",
       "                          Bruno Senna      HRT Cosworth                 18  \n",
       "                          Christian Klien  HRT Cosworth                 17  \n",
       "                          Fairuz Fauzy     Lotus Cosworth               18  \n",
       "                          Felipe Massa     Ferrari                      18  \n",
       "...                                                                    ...  \n",
       "2020 Qualifying Tuscany   Pierre Gasly     AlphaTauri Honda              0  \n",
       "                          Romain Grosjean  Haas Ferrari                  0  \n",
       "                          Sebastian Vettel Ferrari                       0  \n",
       "                          Sergio Perez     Racing Point BWT Mercedes     0  \n",
       "                          Valtteri Bottas  Mercedes                      0  \n",
       "\n",
       "[17880 rows x 3 columns]"
      ],
      "text/html": "<div>\n<style scoped>\n    .dataframe tbody tr th:only-of-type {\n        vertical-align: middle;\n    }\n\n    .dataframe tbody tr th {\n        vertical-align: top;\n    }\n\n    .dataframe thead th {\n        text-align: right;\n    }\n</style>\n<table border=\"1\" class=\"dataframe\">\n  <thead>\n    <tr style=\"text-align: right;\">\n      <th></th>\n      <th></th>\n      <th></th>\n      <th></th>\n      <th></th>\n      <th>Position</th>\n      <th>Time</th>\n      <th>Laps</th>\n    </tr>\n    <tr>\n      <th>Year</th>\n      <th>Type</th>\n      <th>Track</th>\n      <th>Driver</th>\n      <th>Car</th>\n      <th></th>\n      <th></th>\n      <th></th>\n    </tr>\n  </thead>\n  <tbody>\n    <tr>\n      <th rowspan=\"5\" valign=\"top\">2010</th>\n      <th rowspan=\"5\" valign=\"top\">Practice 1</th>\n      <th rowspan=\"5\" valign=\"top\">Abu Dhabi</th>\n      <th>Adrian Sutil</th>\n      <th>Force India Mercedes</th>\n      <td>14</td>\n      <td>6852</td>\n      <td>20</td>\n    </tr>\n    <tr>\n      <th>Bruno Senna</th>\n      <th>HRT Cosworth</th>\n      <td>22</td>\n      <td>7130</td>\n      <td>18</td>\n    </tr>\n    <tr>\n      <th>Christian Klien</th>\n      <th>HRT Cosworth</th>\n      <td>23</td>\n      <td>6874</td>\n      <td>17</td>\n    </tr>\n    <tr>\n      <th>Fairuz Fauzy</th>\n      <th>Lotus Cosworth</th>\n      <td>24</td>\n      <td>7365</td>\n      <td>18</td>\n    </tr>\n    <tr>\n      <th>Felipe Massa</th>\n      <th>Ferrari</th>\n      <td>11</td>\n      <td>6460</td>\n      <td>18</td>\n    </tr>\n    <tr>\n      <th>...</th>\n      <th>...</th>\n      <th>...</th>\n      <th>...</th>\n      <th>...</th>\n      <td>...</td>\n      <td>...</td>\n      <td>...</td>\n    </tr>\n    <tr>\n      <th rowspan=\"5\" valign=\"top\">2020</th>\n      <th rowspan=\"5\" valign=\"top\">Qualifying</th>\n      <th rowspan=\"5\" valign=\"top\">Tuscany</th>\n      <th>Pierre Gasly</th>\n      <th>AlphaTauri Honda</th>\n      <td>16</td>\n      <td>0</td>\n      <td>0</td>\n    </tr>\n    <tr>\n      <th>Romain Grosjean</th>\n      <th>Haas Ferrari</th>\n      <td>15</td>\n      <td>0</td>\n      <td>0</td>\n    </tr>\n    <tr>\n      <th>Sebastian Vettel</th>\n      <th>Ferrari</th>\n      <td>14</td>\n      <td>0</td>\n      <td>0</td>\n    </tr>\n    <tr>\n      <th>Sergio Perez</th>\n      <th>Racing Point BWT Mercedes</th>\n      <td>6</td>\n      <td>0</td>\n      <td>0</td>\n    </tr>\n    <tr>\n      <th>Valtteri Bottas</th>\n      <th>Mercedes</th>\n      <td>2</td>\n      <td>0</td>\n      <td>0</td>\n    </tr>\n  </tbody>\n</table>\n<p>17880 rows × 3 columns</p>\n</div>"
     },
     "metadata": {},
     "execution_count": 5
    }
   ],
   "source": [
    "import pandas as pd\n",
    "import numpy as np\n",
    "from sklearn import linear_model\n",
    "#To-Do\n",
    "#Y=Qualifying position, \n",
    "#Replace position with 0 for Practice\n",
    "#X = time and laps\n",
    "data = pd.read_csv('../ScrapF1/data.csv')\n",
    "\n",
    "data.groupby(['Year','Type','Track','Driver','Car']).mean()\n"
   ]
  },
  {
   "cell_type": "code",
   "execution_count": null,
   "metadata": {},
   "outputs": [],
   "source": []
  }
 ]
}