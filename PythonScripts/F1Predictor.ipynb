{
 "metadata": {
  "language_info": {
   "codemirror_mode": {
    "name": "ipython",
    "version": 3
   },
   "file_extension": ".py",
   "mimetype": "text/x-python",
   "name": "python",
   "nbconvert_exporter": "python",
   "pygments_lexer": "ipython3",
   "version": "3.8.3"
  },
  "orig_nbformat": 2,
  "kernelspec": {
   "name": "python3",
   "display_name": "Python 3.8.3 64-bit ('base': conda)"
  },
  "interpreter": {
   "hash": "cbcf952638a26989586fff2d21bebfd3d24aa3b82ee61fd3ed0237b44cfc0741"
  }
 },
 "nbformat": 4,
 "nbformat_minor": 2,
 "cells": [
  {
   "cell_type": "code",
   "execution_count": 15,
   "metadata": {},
   "outputs": [
    {
     "output_type": "execute_result",
     "data": {
      "text/plain": [
       "     Year        Type    Track  Position              Driver  \\\n",
       "0    2010  Practice 1  Bahrain         0        Adrian Sutil   \n",
       "1    2010  Practice 1  Bahrain         0     Fernando Alonso   \n",
       "2    2010  Practice 1  Bahrain         0       Robert Kubica   \n",
       "3    2010  Practice 1  Bahrain         0        Felipe Massa   \n",
       "4    2010  Practice 1  Bahrain         0       Jenson Button   \n",
       "..    ...         ...      ...       ...                 ...   \n",
       "995  2010  Practice 3  Germany         0      Lewis Hamilton   \n",
       "996  2010  Practice 3  Germany         0  Michael Schumacher   \n",
       "997  2010  Practice 3  Germany         0  Rubens Barrichello   \n",
       "998  2010  Practice 3  Germany         0       Robert Kubica   \n",
       "999  2010  Practice 3  Germany         0     Nico Hulkenberg   \n",
       "\n",
       "                      Car  Time  Laps  \n",
       "0    Force India Mercedes  7543    18  \n",
       "1                 Ferrari  7726    18  \n",
       "2                 Renault  7061    19  \n",
       "3                 Ferrari  7075    19  \n",
       "4        McLaren Mercedes  7088    19  \n",
       "..                    ...   ...   ...  \n",
       "995      McLaren Mercedes  4767    13  \n",
       "996              Mercedes  5033    16  \n",
       "997     Williams Cosworth  5041    23  \n",
       "998               Renault  5206    20  \n",
       "999     Williams Cosworth  5303    17  \n",
       "\n",
       "[1000 rows x 8 columns]"
      ],
      "text/html": "<div>\n<style scoped>\n    .dataframe tbody tr th:only-of-type {\n        vertical-align: middle;\n    }\n\n    .dataframe tbody tr th {\n        vertical-align: top;\n    }\n\n    .dataframe thead th {\n        text-align: right;\n    }\n</style>\n<table border=\"1\" class=\"dataframe\">\n  <thead>\n    <tr style=\"text-align: right;\">\n      <th></th>\n      <th>Year</th>\n      <th>Type</th>\n      <th>Track</th>\n      <th>Position</th>\n      <th>Driver</th>\n      <th>Car</th>\n      <th>Time</th>\n      <th>Laps</th>\n    </tr>\n  </thead>\n  <tbody>\n    <tr>\n      <th>0</th>\n      <td>2010</td>\n      <td>Practice 1</td>\n      <td>Bahrain</td>\n      <td>0</td>\n      <td>Adrian Sutil</td>\n      <td>Force India Mercedes</td>\n      <td>7543</td>\n      <td>18</td>\n    </tr>\n    <tr>\n      <th>1</th>\n      <td>2010</td>\n      <td>Practice 1</td>\n      <td>Bahrain</td>\n      <td>0</td>\n      <td>Fernando Alonso</td>\n      <td>Ferrari</td>\n      <td>7726</td>\n      <td>18</td>\n    </tr>\n    <tr>\n      <th>2</th>\n      <td>2010</td>\n      <td>Practice 1</td>\n      <td>Bahrain</td>\n      <td>0</td>\n      <td>Robert Kubica</td>\n      <td>Renault</td>\n      <td>7061</td>\n      <td>19</td>\n    </tr>\n    <tr>\n      <th>3</th>\n      <td>2010</td>\n      <td>Practice 1</td>\n      <td>Bahrain</td>\n      <td>0</td>\n      <td>Felipe Massa</td>\n      <td>Ferrari</td>\n      <td>7075</td>\n      <td>19</td>\n    </tr>\n    <tr>\n      <th>4</th>\n      <td>2010</td>\n      <td>Practice 1</td>\n      <td>Bahrain</td>\n      <td>0</td>\n      <td>Jenson Button</td>\n      <td>McLaren Mercedes</td>\n      <td>7088</td>\n      <td>19</td>\n    </tr>\n    <tr>\n      <th>...</th>\n      <td>...</td>\n      <td>...</td>\n      <td>...</td>\n      <td>...</td>\n      <td>...</td>\n      <td>...</td>\n      <td>...</td>\n      <td>...</td>\n    </tr>\n    <tr>\n      <th>995</th>\n      <td>2010</td>\n      <td>Practice 3</td>\n      <td>Germany</td>\n      <td>0</td>\n      <td>Lewis Hamilton</td>\n      <td>McLaren Mercedes</td>\n      <td>4767</td>\n      <td>13</td>\n    </tr>\n    <tr>\n      <th>996</th>\n      <td>2010</td>\n      <td>Practice 3</td>\n      <td>Germany</td>\n      <td>0</td>\n      <td>Michael Schumacher</td>\n      <td>Mercedes</td>\n      <td>5033</td>\n      <td>16</td>\n    </tr>\n    <tr>\n      <th>997</th>\n      <td>2010</td>\n      <td>Practice 3</td>\n      <td>Germany</td>\n      <td>0</td>\n      <td>Rubens Barrichello</td>\n      <td>Williams Cosworth</td>\n      <td>5041</td>\n      <td>23</td>\n    </tr>\n    <tr>\n      <th>998</th>\n      <td>2010</td>\n      <td>Practice 3</td>\n      <td>Germany</td>\n      <td>0</td>\n      <td>Robert Kubica</td>\n      <td>Renault</td>\n      <td>5206</td>\n      <td>20</td>\n    </tr>\n    <tr>\n      <th>999</th>\n      <td>2010</td>\n      <td>Practice 3</td>\n      <td>Germany</td>\n      <td>0</td>\n      <td>Nico Hulkenberg</td>\n      <td>Williams Cosworth</td>\n      <td>5303</td>\n      <td>17</td>\n    </tr>\n  </tbody>\n</table>\n<p>1000 rows × 8 columns</p>\n</div>"
     },
     "metadata": {},
     "execution_count": 15
    }
   ],
   "source": [
    "import pandas as pd\n",
    "import numpy as np\n",
    "import matplotlib.pyplot as plt\n",
    "import re\n",
    "from sklearn import linear_model\n",
    "#To-Do\n",
    "#Y=Qualifying position, \n",
    "#Replace position with 0 for Practice\n",
    "#X = time and laps\n",
    "data = pd.read_csv('../ScrapF1/data.csv')\n",
    "data.loc[data['Type'].str.contains('Practice'),'Position'] = 0\n",
    "# for index,row in data.iterrows():\n",
    "#     if 'Practice' in row['Type']:\n",
    "#         data['Position'] = 0\n",
    "data.head(1000)\n",
    "\n",
    "data.groupby(['Year','Type','Track','Driver','Car']).mean()\n"
   ]
  },
  {
   "cell_type": "code",
   "execution_count": 45,
   "metadata": {},
   "outputs": [
    {
     "output_type": "execute_result",
     "data": {
      "text/plain": [
       "                                                 Time       Laps\n",
       "Year Track     Car                                              \n",
       "2010 Abu Dhabi Ferrari                    6571.000000  18.833333\n",
       "               Force India Mercedes       6733.333333  19.666667\n",
       "               HRT Cosworth               6850.333333  21.333333\n",
       "               Lotus Cosworth             6862.166667  24.000000\n",
       "               McLaren Mercedes           6605.333333  19.666667\n",
       "...                                               ...        ...\n",
       "2020 Tuscany   Mercedes                   5202.666667  24.833333\n",
       "               Racing Point BWT Mercedes  5144.833333  24.500000\n",
       "               Red Bull Racing Honda      5177.666667  23.333333\n",
       "               Renault                    5011.166667  23.166667\n",
       "               Williams Mercedes          5198.000000  28.200000\n",
       "\n",
       "[2309 rows x 2 columns]"
      ],
      "text/html": "<div>\n<style scoped>\n    .dataframe tbody tr th:only-of-type {\n        vertical-align: middle;\n    }\n\n    .dataframe tbody tr th {\n        vertical-align: top;\n    }\n\n    .dataframe thead th {\n        text-align: right;\n    }\n</style>\n<table border=\"1\" class=\"dataframe\">\n  <thead>\n    <tr style=\"text-align: right;\">\n      <th></th>\n      <th></th>\n      <th></th>\n      <th>Time</th>\n      <th>Laps</th>\n    </tr>\n    <tr>\n      <th>Year</th>\n      <th>Track</th>\n      <th>Car</th>\n      <th></th>\n      <th></th>\n    </tr>\n  </thead>\n  <tbody>\n    <tr>\n      <th rowspan=\"5\" valign=\"top\">2010</th>\n      <th rowspan=\"5\" valign=\"top\">Abu Dhabi</th>\n      <th>Ferrari</th>\n      <td>6571.000000</td>\n      <td>18.833333</td>\n    </tr>\n    <tr>\n      <th>Force India Mercedes</th>\n      <td>6733.333333</td>\n      <td>19.666667</td>\n    </tr>\n    <tr>\n      <th>HRT Cosworth</th>\n      <td>6850.333333</td>\n      <td>21.333333</td>\n    </tr>\n    <tr>\n      <th>Lotus Cosworth</th>\n      <td>6862.166667</td>\n      <td>24.000000</td>\n    </tr>\n    <tr>\n      <th>McLaren Mercedes</th>\n      <td>6605.333333</td>\n      <td>19.666667</td>\n    </tr>\n    <tr>\n      <th>...</th>\n      <th>...</th>\n      <th>...</th>\n      <td>...</td>\n      <td>...</td>\n    </tr>\n    <tr>\n      <th rowspan=\"5\" valign=\"top\">2020</th>\n      <th rowspan=\"5\" valign=\"top\">Tuscany</th>\n      <th>Mercedes</th>\n      <td>5202.666667</td>\n      <td>24.833333</td>\n    </tr>\n    <tr>\n      <th>Racing Point BWT Mercedes</th>\n      <td>5144.833333</td>\n      <td>24.500000</td>\n    </tr>\n    <tr>\n      <th>Red Bull Racing Honda</th>\n      <td>5177.666667</td>\n      <td>23.333333</td>\n    </tr>\n    <tr>\n      <th>Renault</th>\n      <td>5011.166667</td>\n      <td>23.166667</td>\n    </tr>\n    <tr>\n      <th>Williams Mercedes</th>\n      <td>5198.000000</td>\n      <td>28.200000</td>\n    </tr>\n  </tbody>\n</table>\n<p>2309 rows × 2 columns</p>\n</div>"
     },
     "metadata": {},
     "execution_count": 45
    }
   ],
   "source": [
    "#Plot data\n",
    "#data.groupby(['Year','Type','Track','Driver','Car']).mean()\n",
    "isPractice = data['Type'].str.contains('Practice')\n",
    "\n",
    "# isQualifying = data['Type'].str.contains('Qualifying')\n",
    "data[isPractice].head(200)\n",
    "# practiceData = data[isPractice][['Year','Track','Car','Time','Laps']].groupby(['Year','Track','Car']).mean()\n",
    "# practiceData\n",
    "# qualifyingData = data[isQualifying]\n",
    "# qualifyingData.tail()\n",
    "\n",
    "# merged = pd.merge(practiceData,qualifyingData,on=['Year','Track','Driver','Car'])\n",
    "# merged[['Year','Track','Driver','Car','Time_x','Laps_x','Position_y']].head()\n",
    "\n",
    "# fig, ax = plt.subplots()\n",
    "# ax.plot(merged.head()['Time_x'],merged.head()['Position_y'])"
   ]
  },
  {
   "cell_type": "code",
   "execution_count": 30,
   "metadata": {},
   "outputs": [
    {
     "output_type": "execute_result",
     "data": {
      "text/plain": [
       "   Year      Type_x    Track  Position_x           Driver  \\\n",
       "0  2010  Practice 1  Bahrain           0     Adrian Sutil   \n",
       "1  2010  Practice 2  Bahrain           0     Adrian Sutil   \n",
       "2  2010  Practice 3  Bahrain           0     Adrian Sutil   \n",
       "3  2010  Practice 1  Bahrain           0  Fernando Alonso   \n",
       "4  2010  Practice 2  Bahrain           0  Fernando Alonso   \n",
       "\n",
       "                    Car  Time_x  Laps_x      Type_y  Position_y  Time_y  \\\n",
       "0  Force India Mercedes    7543      18  Qualifying          10       0   \n",
       "1  Force India Mercedes    7381      29  Qualifying          10       0   \n",
       "2  Force India Mercedes    7421      13  Qualifying          10       0   \n",
       "3               Ferrari    7726      18  Qualifying           3       0   \n",
       "4               Ferrari    7160      25  Qualifying           3       0   \n",
       "\n",
       "   Laps_y  \n",
       "0       0  \n",
       "1       0  \n",
       "2       0  \n",
       "3       0  \n",
       "4       0  "
      ],
      "text/html": "<div>\n<style scoped>\n    .dataframe tbody tr th:only-of-type {\n        vertical-align: middle;\n    }\n\n    .dataframe tbody tr th {\n        vertical-align: top;\n    }\n\n    .dataframe thead th {\n        text-align: right;\n    }\n</style>\n<table border=\"1\" class=\"dataframe\">\n  <thead>\n    <tr style=\"text-align: right;\">\n      <th></th>\n      <th>Year</th>\n      <th>Type_x</th>\n      <th>Track</th>\n      <th>Position_x</th>\n      <th>Driver</th>\n      <th>Car</th>\n      <th>Time_x</th>\n      <th>Laps_x</th>\n      <th>Type_y</th>\n      <th>Position_y</th>\n      <th>Time_y</th>\n      <th>Laps_y</th>\n    </tr>\n  </thead>\n  <tbody>\n    <tr>\n      <th>0</th>\n      <td>2010</td>\n      <td>Practice 1</td>\n      <td>Bahrain</td>\n      <td>0</td>\n      <td>Adrian Sutil</td>\n      <td>Force India Mercedes</td>\n      <td>7543</td>\n      <td>18</td>\n      <td>Qualifying</td>\n      <td>10</td>\n      <td>0</td>\n      <td>0</td>\n    </tr>\n    <tr>\n      <th>1</th>\n      <td>2010</td>\n      <td>Practice 2</td>\n      <td>Bahrain</td>\n      <td>0</td>\n      <td>Adrian Sutil</td>\n      <td>Force India Mercedes</td>\n      <td>7381</td>\n      <td>29</td>\n      <td>Qualifying</td>\n      <td>10</td>\n      <td>0</td>\n      <td>0</td>\n    </tr>\n    <tr>\n      <th>2</th>\n      <td>2010</td>\n      <td>Practice 3</td>\n      <td>Bahrain</td>\n      <td>0</td>\n      <td>Adrian Sutil</td>\n      <td>Force India Mercedes</td>\n      <td>7421</td>\n      <td>13</td>\n      <td>Qualifying</td>\n      <td>10</td>\n      <td>0</td>\n      <td>0</td>\n    </tr>\n    <tr>\n      <th>3</th>\n      <td>2010</td>\n      <td>Practice 1</td>\n      <td>Bahrain</td>\n      <td>0</td>\n      <td>Fernando Alonso</td>\n      <td>Ferrari</td>\n      <td>7726</td>\n      <td>18</td>\n      <td>Qualifying</td>\n      <td>3</td>\n      <td>0</td>\n      <td>0</td>\n    </tr>\n    <tr>\n      <th>4</th>\n      <td>2010</td>\n      <td>Practice 2</td>\n      <td>Bahrain</td>\n      <td>0</td>\n      <td>Fernando Alonso</td>\n      <td>Ferrari</td>\n      <td>7160</td>\n      <td>25</td>\n      <td>Qualifying</td>\n      <td>3</td>\n      <td>0</td>\n      <td>0</td>\n    </tr>\n  </tbody>\n</table>\n</div>"
     },
     "metadata": {},
     "execution_count": 30
    }
   ],
   "source": [
    "merged.head()\n"
   ]
  },
  {
   "cell_type": "code",
   "execution_count": null,
   "metadata": {},
   "outputs": [],
   "source": []
  }
 ]
}