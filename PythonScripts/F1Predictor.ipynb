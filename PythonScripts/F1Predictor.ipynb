{
 "metadata": {
  "language_info": {
   "codemirror_mode": {
    "name": "ipython",
    "version": 3
   },
   "file_extension": ".py",
   "mimetype": "text/x-python",
   "name": "python",
   "nbconvert_exporter": "python",
   "pygments_lexer": "ipython3",
   "version": "3.8.3"
  },
  "orig_nbformat": 2,
  "kernelspec": {
   "name": "python3",
   "display_name": "Python 3.8.3 64-bit ('base': conda)"
  },
  "interpreter": {
   "hash": "cbcf952638a26989586fff2d21bebfd3d24aa3b82ee61fd3ed0237b44cfc0741"
  }
 },
 "nbformat": 4,
 "nbformat_minor": 2,
 "cells": [
  {
   "cell_type": "code",
   "execution_count": 15,
   "metadata": {},
   "outputs": [
    {
     "output_type": "execute_result",
     "data": {
      "text/plain": [
       "     Year        Type    Track  Position              Driver  \\\n",
       "0    2010  Practice 1  Bahrain         0        Adrian Sutil   \n",
       "1    2010  Practice 1  Bahrain         0     Fernando Alonso   \n",
       "2    2010  Practice 1  Bahrain         0       Robert Kubica   \n",
       "3    2010  Practice 1  Bahrain         0        Felipe Massa   \n",
       "4    2010  Practice 1  Bahrain         0       Jenson Button   \n",
       "..    ...         ...      ...       ...                 ...   \n",
       "995  2010  Practice 3  Germany         0      Lewis Hamilton   \n",
       "996  2010  Practice 3  Germany         0  Michael Schumacher   \n",
       "997  2010  Practice 3  Germany         0  Rubens Barrichello   \n",
       "998  2010  Practice 3  Germany         0       Robert Kubica   \n",
       "999  2010  Practice 3  Germany         0     Nico Hulkenberg   \n",
       "\n",
       "                      Car  Time  Laps  \n",
       "0    Force India Mercedes  7543    18  \n",
       "1                 Ferrari  7726    18  \n",
       "2                 Renault  7061    19  \n",
       "3                 Ferrari  7075    19  \n",
       "4        McLaren Mercedes  7088    19  \n",
       "..                    ...   ...   ...  \n",
       "995      McLaren Mercedes  4767    13  \n",
       "996              Mercedes  5033    16  \n",
       "997     Williams Cosworth  5041    23  \n",
       "998               Renault  5206    20  \n",
       "999     Williams Cosworth  5303    17  \n",
       "\n",
       "[1000 rows x 8 columns]"
      ],
      "text/html": "<div>\n<style scoped>\n    .dataframe tbody tr th:only-of-type {\n        vertical-align: middle;\n    }\n\n    .dataframe tbody tr th {\n        vertical-align: top;\n    }\n\n    .dataframe thead th {\n        text-align: right;\n    }\n</style>\n<table border=\"1\" class=\"dataframe\">\n  <thead>\n    <tr style=\"text-align: right;\">\n      <th></th>\n      <th>Year</th>\n      <th>Type</th>\n      <th>Track</th>\n      <th>Position</th>\n      <th>Driver</th>\n      <th>Car</th>\n      <th>Time</th>\n      <th>Laps</th>\n    </tr>\n  </thead>\n  <tbody>\n    <tr>\n      <th>0</th>\n      <td>2010</td>\n      <td>Practice 1</td>\n      <td>Bahrain</td>\n      <td>0</td>\n      <td>Adrian Sutil</td>\n      <td>Force India Mercedes</td>\n      <td>7543</td>\n      <td>18</td>\n    </tr>\n    <tr>\n      <th>1</th>\n      <td>2010</td>\n      <td>Practice 1</td>\n      <td>Bahrain</td>\n      <td>0</td>\n      <td>Fernando Alonso</td>\n      <td>Ferrari</td>\n      <td>7726</td>\n      <td>18</td>\n    </tr>\n    <tr>\n      <th>2</th>\n      <td>2010</td>\n      <td>Practice 1</td>\n      <td>Bahrain</td>\n      <td>0</td>\n      <td>Robert Kubica</td>\n      <td>Renault</td>\n      <td>7061</td>\n      <td>19</td>\n    </tr>\n    <tr>\n      <th>3</th>\n      <td>2010</td>\n      <td>Practice 1</td>\n      <td>Bahrain</td>\n      <td>0</td>\n      <td>Felipe Massa</td>\n      <td>Ferrari</td>\n      <td>7075</td>\n      <td>19</td>\n    </tr>\n    <tr>\n      <th>4</th>\n      <td>2010</td>\n      <td>Practice 1</td>\n      <td>Bahrain</td>\n      <td>0</td>\n      <td>Jenson Button</td>\n      <td>McLaren Mercedes</td>\n      <td>7088</td>\n      <td>19</td>\n    </tr>\n    <tr>\n      <th>...</th>\n      <td>...</td>\n      <td>...</td>\n      <td>...</td>\n      <td>...</td>\n      <td>...</td>\n      <td>...</td>\n      <td>...</td>\n      <td>...</td>\n    </tr>\n    <tr>\n      <th>995</th>\n      <td>2010</td>\n      <td>Practice 3</td>\n      <td>Germany</td>\n      <td>0</td>\n      <td>Lewis Hamilton</td>\n      <td>McLaren Mercedes</td>\n      <td>4767</td>\n      <td>13</td>\n    </tr>\n    <tr>\n      <th>996</th>\n      <td>2010</td>\n      <td>Practice 3</td>\n      <td>Germany</td>\n      <td>0</td>\n      <td>Michael Schumacher</td>\n      <td>Mercedes</td>\n      <td>5033</td>\n      <td>16</td>\n    </tr>\n    <tr>\n      <th>997</th>\n      <td>2010</td>\n      <td>Practice 3</td>\n      <td>Germany</td>\n      <td>0</td>\n      <td>Rubens Barrichello</td>\n      <td>Williams Cosworth</td>\n      <td>5041</td>\n      <td>23</td>\n    </tr>\n    <tr>\n      <th>998</th>\n      <td>2010</td>\n      <td>Practice 3</td>\n      <td>Germany</td>\n      <td>0</td>\n      <td>Robert Kubica</td>\n      <td>Renault</td>\n      <td>5206</td>\n      <td>20</td>\n    </tr>\n    <tr>\n      <th>999</th>\n      <td>2010</td>\n      <td>Practice 3</td>\n      <td>Germany</td>\n      <td>0</td>\n      <td>Nico Hulkenberg</td>\n      <td>Williams Cosworth</td>\n      <td>5303</td>\n      <td>17</td>\n    </tr>\n  </tbody>\n</table>\n<p>1000 rows × 8 columns</p>\n</div>"
     },
     "metadata": {},
     "execution_count": 15
    }
   ],
   "source": [
    "import pandas as pd\n",
    "import numpy as np\n",
    "import matplotlib.pyplot as plt\n",
    "import re\n",
    "from sklearn import linear_model\n",
    "#To-Do\n",
    "#Y=Qualifying position, \n",
    "#Replace position with 0 for Practice\n",
    "#X = time and laps\n",
    "data = pd.read_csv('../ScrapF1/data.csv')\n",
    "data.loc[data['Type'].str.contains('Practice'),'Position'] = 0\n",
    "# for index,row in data.iterrows():\n",
    "#     if 'Practice' in row['Type']:\n",
    "#         data['Position'] = 0\n",
    "data.head(1000)\n",
    "\n",
    "#data.groupby(['Year','Type','Track','Driver','Car']).mean()\n"
   ]
  },
  {
   "cell_type": "code",
   "execution_count": 4,
   "metadata": {},
   "outputs": [
    {
     "output_type": "execute_result",
     "data": {
      "text/plain": [
       "       Year        Type      Track  Position             Driver  \\\n",
       "17875  2020  Qualifying  Abu Dhabi         0     Kimi Räikkönen   \n",
       "17876  2020  Qualifying  Abu Dhabi         0    Kevin Magnussen   \n",
       "17877  2020  Qualifying  Abu Dhabi         0     George Russell   \n",
       "17878  2020  Qualifying  Abu Dhabi         0  Pietro Fittipaldi   \n",
       "17879  2020  Qualifying  Abu Dhabi         0    Nicholas Latifi   \n",
       "\n",
       "                             Car  Time  Laps  \n",
       "17875  Alfa Romeo Racing Ferrari     0     0  \n",
       "17876               Haas Ferrari     0     0  \n",
       "17877          Williams Mercedes     0     0  \n",
       "17878               Haas Ferrari     0     0  \n",
       "17879          Williams Mercedes     0     0  "
      ],
      "text/html": "<div>\n<style scoped>\n    .dataframe tbody tr th:only-of-type {\n        vertical-align: middle;\n    }\n\n    .dataframe tbody tr th {\n        vertical-align: top;\n    }\n\n    .dataframe thead th {\n        text-align: right;\n    }\n</style>\n<table border=\"1\" class=\"dataframe\">\n  <thead>\n    <tr style=\"text-align: right;\">\n      <th></th>\n      <th>Year</th>\n      <th>Type</th>\n      <th>Track</th>\n      <th>Position</th>\n      <th>Driver</th>\n      <th>Car</th>\n      <th>Time</th>\n      <th>Laps</th>\n    </tr>\n  </thead>\n  <tbody>\n    <tr>\n      <th>17875</th>\n      <td>2020</td>\n      <td>Qualifying</td>\n      <td>Abu Dhabi</td>\n      <td>0</td>\n      <td>Kimi Räikkönen</td>\n      <td>Alfa Romeo Racing Ferrari</td>\n      <td>0</td>\n      <td>0</td>\n    </tr>\n    <tr>\n      <th>17876</th>\n      <td>2020</td>\n      <td>Qualifying</td>\n      <td>Abu Dhabi</td>\n      <td>0</td>\n      <td>Kevin Magnussen</td>\n      <td>Haas Ferrari</td>\n      <td>0</td>\n      <td>0</td>\n    </tr>\n    <tr>\n      <th>17877</th>\n      <td>2020</td>\n      <td>Qualifying</td>\n      <td>Abu Dhabi</td>\n      <td>0</td>\n      <td>George Russell</td>\n      <td>Williams Mercedes</td>\n      <td>0</td>\n      <td>0</td>\n    </tr>\n    <tr>\n      <th>17878</th>\n      <td>2020</td>\n      <td>Qualifying</td>\n      <td>Abu Dhabi</td>\n      <td>0</td>\n      <td>Pietro Fittipaldi</td>\n      <td>Haas Ferrari</td>\n      <td>0</td>\n      <td>0</td>\n    </tr>\n    <tr>\n      <th>17879</th>\n      <td>2020</td>\n      <td>Qualifying</td>\n      <td>Abu Dhabi</td>\n      <td>0</td>\n      <td>Nicholas Latifi</td>\n      <td>Williams Mercedes</td>\n      <td>0</td>\n      <td>0</td>\n    </tr>\n  </tbody>\n</table>\n</div>"
     },
     "metadata": {},
     "execution_count": 4
    }
   ],
   "source": [
    "#Plot data\n",
    "data.tail()\n",
    "\n",
    "# fig, ax = plt.subplots()\n",
    "# ax.plot(data[])"
   ]
  },
  {
   "cell_type": "code",
   "execution_count": null,
   "metadata": {},
   "outputs": [],
   "source": []
  }
 ]
}